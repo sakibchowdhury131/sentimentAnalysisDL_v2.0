{
  "nbformat": 4,
  "nbformat_minor": 0,
  "metadata": {
    "accelerator": "GPU",
    "colab": {
      "name": "sentimentAnalysis_test1.ipynb",
      "provenance": [],
      "collapsed_sections": [],
      "mount_file_id": "1E6Qyu-8ASGB1OLVpE11lbYlMAEf-76yv",
      "authorship_tag": "ABX9TyOF7Somf+/DWqT0X0suwuEe",
      "include_colab_link": true
    },
    "kernelspec": {
      "display_name": "Python 3",
      "name": "python3"
    },
    "language_info": {
      "name": "python"
    }
  },
  "cells": [
    {
      "cell_type": "markdown",
      "metadata": {
        "id": "view-in-github",
        "colab_type": "text"
      },
      "source": [
        "<a href=\"https://colab.research.google.com/github/sakibchowdhury131/sentimentAnalysisDL_v2.0/blob/main/sentimentAnalysis_test1.ipynb\" target=\"_parent\"><img src=\"https://colab.research.google.com/assets/colab-badge.svg\" alt=\"Open In Colab\"/></a>"
      ]
    },
    {
      "cell_type": "code",
      "metadata": {
        "colab": {
          "base_uri": "https://localhost:8080/"
        },
        "id": "aiDZWXezEdcU",
        "outputId": "738e1bce-72ff-45cc-eeb0-e0f56e0b0a4f"
      },
      "source": [
        "! git clone https://github.com/gitdevqiang/Covid-19-Sentiment-Analysis.git"
      ],
      "execution_count": 1,
      "outputs": [
        {
          "output_type": "stream",
          "text": [
            "Cloning into 'Covid-19-Sentiment-Analysis'...\n",
            "remote: Enumerating objects: 87, done.\u001b[K\n",
            "remote: Counting objects: 100% (87/87), done.\u001b[K\n",
            "remote: Compressing objects: 100% (83/83), done.\u001b[K\n",
            "remote: Total 87 (delta 26), reused 0 (delta 0), pack-reused 0\u001b[K\n",
            "Unpacking objects: 100% (87/87), done.\n"
          ],
          "name": "stdout"
        }
      ]
    },
    {
      "cell_type": "code",
      "metadata": {
        "colab": {
          "base_uri": "https://localhost:8080/"
        },
        "id": "3zpCuJEAFABL",
        "outputId": "27ef1193-a878-43b2-da2e-7078386887b3"
      },
      "source": [
        "import os\n",
        "os.chdir('/content/Covid-19-Sentiment-Analysis/Dataset')\n",
        "os.listdir()"
      ],
      "execution_count": 2,
      "outputs": [
        {
          "output_type": "execute_result",
          "data": {
            "text/plain": [
              "['train.csv', 'test_content.csv', 'val_content.csv']"
            ]
          },
          "metadata": {
            "tags": []
          },
          "execution_count": 2
        }
      ]
    },
    {
      "cell_type": "code",
      "metadata": {
        "id": "nk-2iRaOFpVw"
      },
      "source": [
        "import pandas as pd\n",
        "def load_data(csv_file, columnNames = ['Tweet', 'Labels']): \n",
        "    dataset = pd.read_csv(csv_file)\n",
        "    return dataset[columnNames]"
      ],
      "execution_count": 3,
      "outputs": []
    },
    {
      "cell_type": "code",
      "metadata": {
        "id": "B_f1X4BDGBLa"
      },
      "source": [
        "df = load_data('train.csv')"
      ],
      "execution_count": 4,
      "outputs": []
    },
    {
      "cell_type": "code",
      "metadata": {
        "colab": {
          "base_uri": "https://localhost:8080/",
          "height": 359
        },
        "id": "MfYwMfrqGKZK",
        "outputId": "4cc700c5-1775-42a3-937d-a84e1efc6446"
      },
      "source": [
        "df[0:10]"
      ],
      "execution_count": 5,
      "outputs": [
        {
          "output_type": "execute_result",
          "data": {
            "text/html": [
              "<div>\n",
              "<style scoped>\n",
              "    .dataframe tbody tr th:only-of-type {\n",
              "        vertical-align: middle;\n",
              "    }\n",
              "\n",
              "    .dataframe tbody tr th {\n",
              "        vertical-align: top;\n",
              "    }\n",
              "\n",
              "    .dataframe thead th {\n",
              "        text-align: right;\n",
              "    }\n",
              "</style>\n",
              "<table border=\"1\" class=\"dataframe\">\n",
              "  <thead>\n",
              "    <tr style=\"text-align: right;\">\n",
              "      <th></th>\n",
              "      <th>Tweet</th>\n",
              "      <th>Labels</th>\n",
              "    </tr>\n",
              "  </thead>\n",
              "  <tbody>\n",
              "    <tr>\n",
              "      <th>0</th>\n",
              "      <td>NO JOKE I WILL HOP ON A PLANE RN! (Well after ...</td>\n",
              "      <td>0 10</td>\n",
              "    </tr>\n",
              "    <tr>\n",
              "      <th>1</th>\n",
              "      <td>BanMediaHouse whose is responsible for spreadi...</td>\n",
              "      <td>6</td>\n",
              "    </tr>\n",
              "    <tr>\n",
              "      <th>2</th>\n",
              "      <td>Im waiting for someone to say to me that all t...</td>\n",
              "      <td>3 4</td>\n",
              "    </tr>\n",
              "    <tr>\n",
              "      <th>3</th>\n",
              "      <td>He is a liar. Proven day night. Time again. Li...</td>\n",
              "      <td>6</td>\n",
              "    </tr>\n",
              "    <tr>\n",
              "      <th>4</th>\n",
              "      <td>NEW: U.S. CoronaVirus death toll reaches 4,000...</td>\n",
              "      <td>8</td>\n",
              "    </tr>\n",
              "    <tr>\n",
              "      <th>5</th>\n",
              "      <td>Coronavirus impact Govt extends I-T deadlines ...</td>\n",
              "      <td>5 8</td>\n",
              "    </tr>\n",
              "    <tr>\n",
              "      <th>6</th>\n",
              "      <td>42,000 people might have died in China from Co...</td>\n",
              "      <td>6 7 8</td>\n",
              "    </tr>\n",
              "    <tr>\n",
              "      <th>7</th>\n",
              "      <td>Dear Chinese! Kindly cook your bat thoroughly ...</td>\n",
              "      <td>5 10</td>\n",
              "    </tr>\n",
              "    <tr>\n",
              "      <th>8</th>\n",
              "      <td>This is how the govt of kenya is checking the ...</td>\n",
              "      <td>3 6 9</td>\n",
              "    </tr>\n",
              "    <tr>\n",
              "      <th>9</th>\n",
              "      <td>My mental health hasn't suffered at all under ...</td>\n",
              "      <td>10</td>\n",
              "    </tr>\n",
              "  </tbody>\n",
              "</table>\n",
              "</div>"
            ],
            "text/plain": [
              "                                               Tweet Labels\n",
              "0  NO JOKE I WILL HOP ON A PLANE RN! (Well after ...   0 10\n",
              "1  BanMediaHouse whose is responsible for spreadi...      6\n",
              "2  Im waiting for someone to say to me that all t...    3 4\n",
              "3  He is a liar. Proven day night. Time again. Li...      6\n",
              "4  NEW: U.S. CoronaVirus death toll reaches 4,000...      8\n",
              "5  Coronavirus impact Govt extends I-T deadlines ...    5 8\n",
              "6  42,000 people might have died in China from Co...  6 7 8\n",
              "7  Dear Chinese! Kindly cook your bat thoroughly ...   5 10\n",
              "8  This is how the govt of kenya is checking the ...  3 6 9\n",
              "9  My mental health hasn't suffered at all under ...     10"
            ]
          },
          "metadata": {
            "tags": []
          },
          "execution_count": 5
        }
      ]
    },
    {
      "cell_type": "code",
      "metadata": {
        "colab": {
          "base_uri": "https://localhost:8080/"
        },
        "id": "fkFUhWNKGLhb",
        "outputId": "4ed963bb-80bc-48cf-fa96-b4802c6bd6ea"
      },
      "source": [
        "! pip install num2words\n",
        "import nltk\n",
        "nltk.download('punkt')\n",
        "import re\n",
        "nltk.download('stopwords')\n",
        "from nltk.corpus import stopwords\n",
        "from nltk.stem.porter import PorterStemmer"
      ],
      "execution_count": 6,
      "outputs": [
        {
          "output_type": "stream",
          "text": [
            "Collecting num2words\n",
            "\u001b[?25l  Downloading https://files.pythonhosted.org/packages/eb/a2/ea800689730732e27711c41beed4b2a129b34974435bdc450377ec407738/num2words-0.5.10-py3-none-any.whl (101kB)\n",
            "\r\u001b[K     |███▎                            | 10kB 19.9MB/s eta 0:00:01\r\u001b[K     |██████▌                         | 20kB 19.1MB/s eta 0:00:01\r\u001b[K     |█████████▊                      | 30kB 24.0MB/s eta 0:00:01\r\u001b[K     |█████████████                   | 40kB 27.4MB/s eta 0:00:01\r\u001b[K     |████████████████▏               | 51kB 30.4MB/s eta 0:00:01\r\u001b[K     |███████████████████▍            | 61kB 33.4MB/s eta 0:00:01\r\u001b[K     |██████████████████████▋         | 71kB 21.6MB/s eta 0:00:01\r\u001b[K     |█████████████████████████▉      | 81kB 19.7MB/s eta 0:00:01\r\u001b[K     |█████████████████████████████   | 92kB 21.2MB/s eta 0:00:01\r\u001b[K     |████████████████████████████████| 102kB 9.2MB/s \n",
            "\u001b[?25hRequirement already satisfied: docopt>=0.6.2 in /usr/local/lib/python3.7/dist-packages (from num2words) (0.6.2)\n",
            "Installing collected packages: num2words\n",
            "Successfully installed num2words-0.5.10\n",
            "[nltk_data] Downloading package punkt to /root/nltk_data...\n",
            "[nltk_data]   Unzipping tokenizers/punkt.zip.\n",
            "[nltk_data] Downloading package stopwords to /root/nltk_data...\n",
            "[nltk_data]   Unzipping corpora/stopwords.zip.\n"
          ],
          "name": "stdout"
        }
      ]
    },
    {
      "cell_type": "code",
      "metadata": {
        "id": "rsVXx0FdKPwY"
      },
      "source": [
        "corpus = []\n",
        "stop_words = set(stopwords.words('english'))\n",
        "for i in range (len(df)):\n",
        "  review = re.sub('[^a-zA-Z@]', ' ', df['Tweet'][i])\n",
        "  review = review.lower()\n",
        "  review = review.split()\n",
        "  bog = []\n",
        "  for j in range (len(review)):\n",
        "    if review[j].startswith('@') == False and not review[j] in stop_words:\n",
        "      bog.append(review[j])\n",
        "  bog = ' '.join(bog) \n",
        "  corpus.append(bog)"
      ],
      "execution_count": 7,
      "outputs": []
    },
    {
      "cell_type": "code",
      "metadata": {
        "colab": {
          "base_uri": "https://localhost:8080/"
        },
        "id": "z-oUqR3XKpXZ",
        "outputId": "06f08740-04bc-4c68-8320-91bc4384a3e9"
      },
      "source": [
        "corpus[0:10]"
      ],
      "execution_count": 8,
      "outputs": [
        {
          "output_type": "execute_result",
          "data": {
            "text/plain": [
              "['joke hop plane rn well covid lol',\n",
              " 'banmediahouse whose responsible spreading fake communal stories pandemic corona situation',\n",
              " 'im waiting someone say corona thing april fools joke',\n",
              " 'liar proven day night time lies truth covid',\n",
              " 'new u coronavirus death toll reaches nearly new deaths reported today bno news covid coronavirusoutbreak',\n",
              " 'coronavirus impact govt extends deadlines related sections c',\n",
              " 'people might died china covid china underreporting according sources',\n",
              " 'dear chinese kindly cook bat thoroughly next time regards covid coronavirusupdates coronavirus',\n",
              " 'govt kenya checking temperatures covid saying still low mtashangaa sana',\n",
              " 'mental health suffered coronavirus quarantine ha ha april fools']"
            ]
          },
          "metadata": {
            "tags": []
          },
          "execution_count": 8
        }
      ]
    },
    {
      "cell_type": "code",
      "metadata": {
        "colab": {
          "base_uri": "https://localhost:8080/"
        },
        "id": "2tRPHVlXLCL7",
        "outputId": "26b37317-5b09-46bc-d294-f4476249b81d"
      },
      "source": [
        "print(len(df['Labels']))"
      ],
      "execution_count": 9,
      "outputs": [
        {
          "output_type": "stream",
          "text": [
            "5000\n"
          ],
          "name": "stdout"
        }
      ]
    },
    {
      "cell_type": "code",
      "metadata": {
        "colab": {
          "base_uri": "https://localhost:8080/"
        },
        "id": "SNWPrxBXLDaO",
        "outputId": "87d5851d-ca4b-4ac9-e153-22c2872aad51"
      },
      "source": [
        "import numpy as np\n",
        "label = df['Labels'][0]\n",
        "label = label.split()\n",
        "print(label)"
      ],
      "execution_count": 10,
      "outputs": [
        {
          "output_type": "stream",
          "text": [
            "['0', '10']\n"
          ],
          "name": "stdout"
        }
      ]
    },
    {
      "cell_type": "code",
      "metadata": {
        "id": "cf-YUhjfMMXC"
      },
      "source": [
        "def processLabels(labelsDF):\n",
        "  num_class = 11\n",
        "  dfLen = len(labelsDF)\n",
        "  Y = np.zeros((dfLen, num_class), dtype = 'int')\n",
        "\n",
        "  for i in range(len(labelsDF)):\n",
        "    label = labelsDF[i]\n",
        "    label = label.split()\n",
        "    for word in label:\n",
        "      x = int(word)\n",
        "      Y[i, x] = 1\n",
        "  return Y\n"
      ],
      "execution_count": 11,
      "outputs": []
    },
    {
      "cell_type": "code",
      "metadata": {
        "id": "r4KblsLNM7i4"
      },
      "source": [
        "Y = processLabels(labelsDF = df['Labels'])"
      ],
      "execution_count": 12,
      "outputs": []
    },
    {
      "cell_type": "code",
      "metadata": {
        "id": "rQuvFMnXSh1z"
      },
      "source": [
        "texts = corpus"
      ],
      "execution_count": 13,
      "outputs": []
    },
    {
      "cell_type": "code",
      "metadata": {
        "id": "BNED95lnSufk"
      },
      "source": [
        "from keras.preprocessing.text import Tokenizer \n",
        "from keras.preprocessing.sequence import pad_sequences\n",
        "from nltk.tokenize import word_tokenize\n",
        "\n",
        "\n",
        "tokens = []\n",
        "for line in texts:\n",
        "    words = word_tokenize(line)\n",
        "    tokens.append(words)\n",
        "\n",
        "tokenizer_obj = Tokenizer()\n",
        "tokenizer_obj.fit_on_texts(tokens)\n",
        "sequences = tokenizer_obj.texts_to_sequences(tokens)"
      ],
      "execution_count": 14,
      "outputs": []
    },
    {
      "cell_type": "code",
      "metadata": {
        "colab": {
          "base_uri": "https://localhost:8080/"
        },
        "id": "kpngH4CdTCfv",
        "outputId": "be8959d7-c6ac-411f-8ce3-1f00f564614a"
      },
      "source": [
        "tokens[0:10]"
      ],
      "execution_count": 15,
      "outputs": [
        {
          "output_type": "execute_result",
          "data": {
            "text/plain": [
              "[['joke', 'hop', 'plane', 'rn', 'well', 'covid', 'lol'],\n",
              " ['banmediahouse',\n",
              "  'whose',\n",
              "  'responsible',\n",
              "  'spreading',\n",
              "  'fake',\n",
              "  'communal',\n",
              "  'stories',\n",
              "  'pandemic',\n",
              "  'corona',\n",
              "  'situation'],\n",
              " ['im',\n",
              "  'waiting',\n",
              "  'someone',\n",
              "  'say',\n",
              "  'corona',\n",
              "  'thing',\n",
              "  'april',\n",
              "  'fools',\n",
              "  'joke'],\n",
              " ['liar', 'proven', 'day', 'night', 'time', 'lies', 'truth', 'covid'],\n",
              " ['new',\n",
              "  'u',\n",
              "  'coronavirus',\n",
              "  'death',\n",
              "  'toll',\n",
              "  'reaches',\n",
              "  'nearly',\n",
              "  'new',\n",
              "  'deaths',\n",
              "  'reported',\n",
              "  'today',\n",
              "  'bno',\n",
              "  'news',\n",
              "  'covid',\n",
              "  'coronavirusoutbreak'],\n",
              " ['coronavirus',\n",
              "  'impact',\n",
              "  'govt',\n",
              "  'extends',\n",
              "  'deadlines',\n",
              "  'related',\n",
              "  'sections',\n",
              "  'c'],\n",
              " ['people',\n",
              "  'might',\n",
              "  'died',\n",
              "  'china',\n",
              "  'covid',\n",
              "  'china',\n",
              "  'underreporting',\n",
              "  'according',\n",
              "  'sources'],\n",
              " ['dear',\n",
              "  'chinese',\n",
              "  'kindly',\n",
              "  'cook',\n",
              "  'bat',\n",
              "  'thoroughly',\n",
              "  'next',\n",
              "  'time',\n",
              "  'regards',\n",
              "  'covid',\n",
              "  'coronavirusupdates',\n",
              "  'coronavirus'],\n",
              " ['govt',\n",
              "  'kenya',\n",
              "  'checking',\n",
              "  'temperatures',\n",
              "  'covid',\n",
              "  'saying',\n",
              "  'still',\n",
              "  'low',\n",
              "  'mtashangaa',\n",
              "  'sana'],\n",
              " ['mental',\n",
              "  'health',\n",
              "  'suffered',\n",
              "  'coronavirus',\n",
              "  'quarantine',\n",
              "  'ha',\n",
              "  'ha',\n",
              "  'april',\n",
              "  'fools']]"
            ]
          },
          "metadata": {
            "tags": []
          },
          "execution_count": 15
        }
      ]
    },
    {
      "cell_type": "code",
      "metadata": {
        "id": "rNnAO0SBTa2q"
      },
      "source": [
        "def getMaxLen(tokens):\n",
        "  maxLen = 0\n",
        "  for token in tokens:\n",
        "    if len(token)>maxLen:\n",
        "      maxLen = len(token)\n",
        "\n",
        "  return maxLen\n",
        "  "
      ],
      "execution_count": 16,
      "outputs": []
    },
    {
      "cell_type": "code",
      "metadata": {
        "colab": {
          "base_uri": "https://localhost:8080/"
        },
        "id": "yubHVdPnTEur",
        "outputId": "0edb5747-3a1f-4213-e48a-5f410103e5ce"
      },
      "source": [
        "tokenizer_word_index = tokenizer_obj.word_index\n",
        "max_length = getMaxLen(tokens)\n",
        "print(max_length)\n",
        "review_pad = pad_sequences(sequences, maxlen = max_length)\n",
        "\n",
        "# train test split\n",
        "\n",
        "from sklearn.model_selection import train_test_split\n",
        "X_train, X_test, y_train, y_test = train_test_split(review_pad, Y, test_size = 0.20, random_state = 42)\n"
      ],
      "execution_count": 17,
      "outputs": [
        {
          "output_type": "stream",
          "text": [
            "21\n"
          ],
          "name": "stdout"
        }
      ]
    },
    {
      "cell_type": "code",
      "metadata": {
        "colab": {
          "base_uri": "https://localhost:8080/"
        },
        "id": "SQ6auEajaOJV",
        "outputId": "0b000f7a-1481-40c5-fae8-e924851c2506"
      },
      "source": [
        "X_train[0]"
      ],
      "execution_count": 18,
      "outputs": [
        {
          "output_type": "execute_result",
          "data": {
            "text/plain": [
              "array([   0,    0,    0,    0,    0,    0,    0,    0,    0,    0,    2,\n",
              "       1126,   93,  650,   70,  154,  798,   12,  186,   93,  585],\n",
              "      dtype=int32)"
            ]
          },
          "metadata": {
            "tags": []
          },
          "execution_count": 18
        }
      ]
    },
    {
      "cell_type": "code",
      "metadata": {
        "id": "dpK6atJnEih0"
      },
      "source": [
        "import gensim\n",
        "import os\n",
        "def load_glove(filename,tokenizer_word_index,EMBEDDING_DIM):\n",
        "    \n",
        "    embedding_index = {}\n",
        "    \n",
        "    \n",
        "    f = open(os.path.join('',filename), encoding = \"utf-8\")\n",
        "    \n",
        "    \n",
        "    for line in f:\n",
        "        values = line.split()\n",
        "        word = values[0]\n",
        "        coefs = np.asarray(values[1:])\n",
        "        embedding_index[word] = coefs\n",
        "    \n",
        "    \n",
        "    f.close()\n",
        "    \n",
        "    \n",
        "    num_words = len(tokenizer_word_index) + 1\n",
        "    embedding_matrix = np.zeros((num_words,EMBEDDING_DIM))\n",
        "    for word,i in tokenizer_word_index.items():\n",
        "        if i> num_words:\n",
        "            continue\n",
        "        embedding_vector = embedding_index.get(word)\n",
        "        if embedding_vector is not None:\n",
        "            embedding_matrix[i] = embedding_vector\n",
        "            \n",
        "    return embedding_matrix\n"
      ],
      "execution_count": 19,
      "outputs": []
    },
    {
      "cell_type": "code",
      "metadata": {
        "id": "AVvCtk0pZ0EC"
      },
      "source": [
        "def create_word2vec(directory,texts,EMBEDDING_DIM = 100,window = 5,workers = 4, min_count = 4,sg=1):\n",
        "    tokens = []\n",
        "    for line in texts:\n",
        "        words = word_tokenize(line)\n",
        "        tokens.append(words)\n",
        "    \n",
        "    model = gensim.models.Word2Vec(sentences = tokens, size = EMBEDDING_DIM, window = 5, workers = 4, min_count = 4,sg=1)\n",
        "    print('Saving word2vec model in the disk')\n",
        "    \n",
        "    #filename = 'embeddings_w2v.txt'\n",
        "    #model.wv.save_word2vec_format(directory+'/'+filename, binary = False)\n",
        "\n",
        "    return model"
      ],
      "execution_count": 20,
      "outputs": []
    },
    {
      "cell_type": "code",
      "metadata": {
        "colab": {
          "base_uri": "https://localhost:8080/"
        },
        "id": "W1fC-9sTaR-Y",
        "outputId": "8e2e3a3d-ffdc-4c1e-fc0e-260a4690f2a9"
      },
      "source": [
        "num_words = len(tokenizer_word_index) + 1\n",
        "print(num_words)"
      ],
      "execution_count": 21,
      "outputs": [
        {
          "output_type": "stream",
          "text": [
            "8992\n"
          ],
          "name": "stdout"
        }
      ]
    },
    {
      "cell_type": "code",
      "metadata": {
        "colab": {
          "base_uri": "https://localhost:8080/"
        },
        "id": "aIDHUZ2jZ7_C",
        "outputId": "b0f63d48-e619-4f98-9cef-4cc8798f6271"
      },
      "source": [
        "model = create_word2vec(directory = '/content', texts = texts)\n",
        "model.train(texts,total_examples=num_words, epochs=50)"
      ],
      "execution_count": 22,
      "outputs": [
        {
          "output_type": "stream",
          "text": [
            "Saving word2vec model in the disk\n"
          ],
          "name": "stdout"
        },
        {
          "output_type": "execute_result",
          "data": {
            "text/plain": [
              "(7590333, 16676600)"
            ]
          },
          "metadata": {
            "tags": []
          },
          "execution_count": 22
        }
      ]
    },
    {
      "cell_type": "code",
      "metadata": {
        "colab": {
          "base_uri": "https://localhost:8080/"
        },
        "id": "P2mLENURavE7",
        "outputId": "167c6b80-0a87-47e0-ba0e-a8a57e92e626"
      },
      "source": [
        "sims = model.wv.most_similar('coronavirus', topn=10)  # get other similar words\n",
        "print(sims)"
      ],
      "execution_count": 23,
      "outputs": [
        {
          "output_type": "stream",
          "text": [
            "[('march', 0.9967740774154663), ('reaches', 0.9961404204368591), ('china', 0.9960479140281677), ('jammu', 0.9958637952804565), ('hungary', 0.995718240737915), ('kashmir', 0.9955395460128784), ('tally', 0.9948338866233826), ('hours', 0.9947570562362671), ('outbreak', 0.9945591688156128), ('usa', 0.9944091439247131)]\n"
          ],
          "name": "stdout"
        }
      ]
    },
    {
      "cell_type": "code",
      "metadata": {
        "id": "GbU8TlzXd29C"
      },
      "source": [
        "filename = 'embeddings_w2v.txt'\n",
        "model.wv.save_word2vec_format('/content'+'/'+filename, binary = False)"
      ],
      "execution_count": 24,
      "outputs": []
    },
    {
      "cell_type": "code",
      "metadata": {
        "id": "dyI3GL9hddzn"
      },
      "source": [
        "def load_word2vec(filename,tokenizer_word_index,EMBEDDING_DIM):\n",
        "    \n",
        "    embedding_index = {}\n",
        "    \n",
        "    \n",
        "    f = open(os.path.join('',filename), encoding = \"utf-8\")\n",
        "    \n",
        "    \n",
        "    for line in f:\n",
        "        values = line.split()\n",
        "        word = values[0]\n",
        "        coefs = np.asarray(values[1:])\n",
        "        embedding_index[word] = coefs\n",
        "    \n",
        "    \n",
        "    f.close()\n",
        "    \n",
        "    \n",
        "    num_words = len(tokenizer_word_index) + 1\n",
        "    embedding_matrix = np.zeros((num_words,EMBEDDING_DIM))\n",
        "    for word,i in tokenizer_word_index.items():\n",
        "        if i> num_words:\n",
        "            continue\n",
        "        embedding_vector = embedding_index.get(word)\n",
        "        if embedding_vector is not None:\n",
        "            embedding_matrix[i] = embedding_vector\n",
        "            \n",
        "    return embedding_matrix\n",
        "\n",
        "\n",
        "embedding_matrix_w2v = load_word2vec('/content/embeddings_w2v.txt', tokenizer_word_index=tokenizer_word_index, EMBEDDING_DIM=100)"
      ],
      "execution_count": 25,
      "outputs": []
    },
    {
      "cell_type": "code",
      "metadata": {
        "colab": {
          "base_uri": "https://localhost:8080/"
        },
        "id": "xMuyFXxiMXbF",
        "outputId": "ef02dcb0-a689-41cc-9497-8ec185d11a06"
      },
      "source": [
        "embedding_matrix_w2v.shape"
      ],
      "execution_count": 26,
      "outputs": [
        {
          "output_type": "execute_result",
          "data": {
            "text/plain": [
              "(8992, 100)"
            ]
          },
          "metadata": {
            "tags": []
          },
          "execution_count": 26
        }
      ]
    },
    {
      "cell_type": "code",
      "metadata": {
        "id": "44hEGRXFEAZA"
      },
      "source": [
        "num_words = len(tokenizer_word_index) + 1\n",
        "embedding_matrix_glove = load_glove('/content/drive/My Drive/Sentiment_analysis_NLP/All_codes/data/glove.6B.100d.txt', tokenizer_word_index=tokenizer_word_index, EMBEDDING_DIM=100)"
      ],
      "execution_count": 27,
      "outputs": []
    },
    {
      "cell_type": "code",
      "metadata": {
        "id": "y78x_TDoE-Lp"
      },
      "source": [
        "from keras.layers import *\n",
        "from keras.initializers import *\n",
        "from keras import Model"
      ],
      "execution_count": 28,
      "outputs": []
    },
    {
      "cell_type": "code",
      "metadata": {
        "id": "q4qQQ-SFfxST"
      },
      "source": [
        "import tensorflow as tf\n",
        "def channelAttention(inLayer, n):\n",
        "  att_1 = GlobalAveragePooling1D()(inLayer)\n",
        "  att_1 = Dense(att_1.shape[-1]*n, activation = 'relu')(att_1)\n",
        "  att_1 = Dense(int(att_1.shape[-1]/n), activation = 'sigmoid')(att_1)\n",
        "  out = Multiply()([inLayer, tf.expand_dims(tf.expand_dims(att_1,axis=1), axis=1)])\n",
        "  return out"
      ],
      "execution_count": 29,
      "outputs": []
    },
    {
      "cell_type": "code",
      "metadata": {
        "id": "8eP11eHufyQw"
      },
      "source": [
        "def pixelAttention(inLayer, n):\n",
        "  print(inLayer.shape)\n",
        "  att_1 = Conv1DTranspose(filters = n*inLayer.shape[2], kernel_size = 3, strides = n, activation = 'relu')(inLayer)\n",
        "  att_1 = BatchNormalization()(att_1)\n",
        "  print(att_1.shape)\n",
        "  att_1 = Conv1D(filters = inLayer.shape[2], kernel_size = 3, strides = n, activation = 'sigmoid')(att_1)\n",
        "  att_1 = BatchNormalization()(att_1)\n",
        "  print(att_1.shape)\n",
        "  print(inLayer.shape)\n",
        "  out = Multiply()([inLayer, att_1])\n",
        "  '''\n",
        "  out = Conv1D(filters = int(inLayer.shape[2]/n), kernel_size = 3, strides = n, activation = 'relu')(out)\n",
        "  out = Conv1DTranspose(filters = inLayer.shape[-1], kernel_size = 3, strides = n, activation = 'sigmoid')(out)\n",
        "  '''\n",
        "  return out"
      ],
      "execution_count": 30,
      "outputs": []
    },
    {
      "cell_type": "code",
      "metadata": {
        "colab": {
          "base_uri": "https://localhost:8080/"
        },
        "id": "p8HBjYW0E_Sz",
        "outputId": "337473f7-4faa-4268-d098-19ab4a20be0c"
      },
      "source": [
        "def recurrentBlock(inputLayer, nodes):\n",
        "  lstm_1 = Bidirectional(LSTM(nodes, return_sequences=True))(inputLayer)\n",
        "  lstm_1 = BatchNormalization()(lstm_1)\n",
        "  lstm_1 = Dropout(0.5)(lstm_1)\n",
        "  lstm_1 = Activation('relu')(lstm_1)\n",
        "  lstm_2 = Bidirectional(LSTM(int(nodes/2), return_sequences=True))(lstm_1)\n",
        "  lstm_2 = BatchNormalization()(lstm_2)\n",
        "  lstm_2 = Dropout(0.5)(lstm_2)\n",
        "  lstm_2 = Activation('relu')(lstm_2)\n",
        "  lstm_3 = Bidirectional(LSTM(int(nodes/4), return_sequences=True))(lstm_2)\n",
        "  lstm_3 = BatchNormalization()(lstm_3)\n",
        "  lstm_3 = Dropout(0.5)(lstm_3)\n",
        "  lstm_3 = Activation('relu')(lstm_3)\n",
        "  return lstm_3\n",
        "\n",
        "\n",
        "def network():\n",
        "  inp = Input((max_length,))\n",
        "  embedding_layer = Embedding(num_words,\n",
        "                              100,\n",
        "                              embeddings_initializer = Constant(embedding_matrix_w2v),\n",
        "                              #input_length = max_length,\n",
        "                              trainable = False)(inp)\n",
        "  \n",
        "  conv_block1 = pixelAttention(embedding_layer, 16)\n",
        "  conv_block1 = recurrentBlock(conv_block1, 64)\n",
        "  conv_block1 = BatchNormalization()(conv_block1)\n",
        "  flat = GlobalAveragePooling1D()(conv_block1)\n",
        "  output = Dense(1, activation='softmax')(flat)\n",
        "\n",
        "  model = Model(inputs = inp, outputs = output)\n",
        "  model.summary()\n",
        "  return model\n",
        "\n",
        "model = network()"
      ],
      "execution_count": 31,
      "outputs": [
        {
          "output_type": "stream",
          "text": [
            "(None, 21, 100)\n",
            "(None, 336, 1600)\n",
            "(None, 21, 100)\n",
            "(None, 21, 100)\n",
            "Model: \"model\"\n",
            "__________________________________________________________________________________________________\n",
            "Layer (type)                    Output Shape         Param #     Connected to                     \n",
            "==================================================================================================\n",
            "input_1 (InputLayer)            [(None, 21)]         0                                            \n",
            "__________________________________________________________________________________________________\n",
            "embedding (Embedding)           (None, 21, 100)      899200      input_1[0][0]                    \n",
            "__________________________________________________________________________________________________\n",
            "conv1d_transpose (Conv1DTranspo (None, 336, 1600)    481600      embedding[0][0]                  \n",
            "__________________________________________________________________________________________________\n",
            "batch_normalization (BatchNorma (None, 336, 1600)    6400        conv1d_transpose[0][0]           \n",
            "__________________________________________________________________________________________________\n",
            "conv1d (Conv1D)                 (None, 21, 100)      480100      batch_normalization[0][0]        \n",
            "__________________________________________________________________________________________________\n",
            "batch_normalization_1 (BatchNor (None, 21, 100)      400         conv1d[0][0]                     \n",
            "__________________________________________________________________________________________________\n",
            "multiply (Multiply)             (None, 21, 100)      0           embedding[0][0]                  \n",
            "                                                                 batch_normalization_1[0][0]      \n",
            "__________________________________________________________________________________________________\n",
            "bidirectional (Bidirectional)   (None, 21, 128)      84480       multiply[0][0]                   \n",
            "__________________________________________________________________________________________________\n",
            "batch_normalization_2 (BatchNor (None, 21, 128)      512         bidirectional[0][0]              \n",
            "__________________________________________________________________________________________________\n",
            "dropout (Dropout)               (None, 21, 128)      0           batch_normalization_2[0][0]      \n",
            "__________________________________________________________________________________________________\n",
            "activation (Activation)         (None, 21, 128)      0           dropout[0][0]                    \n",
            "__________________________________________________________________________________________________\n",
            "bidirectional_1 (Bidirectional) (None, 21, 64)       41216       activation[0][0]                 \n",
            "__________________________________________________________________________________________________\n",
            "batch_normalization_3 (BatchNor (None, 21, 64)       256         bidirectional_1[0][0]            \n",
            "__________________________________________________________________________________________________\n",
            "dropout_1 (Dropout)             (None, 21, 64)       0           batch_normalization_3[0][0]      \n",
            "__________________________________________________________________________________________________\n",
            "activation_1 (Activation)       (None, 21, 64)       0           dropout_1[0][0]                  \n",
            "__________________________________________________________________________________________________\n",
            "bidirectional_2 (Bidirectional) (None, 21, 32)       10368       activation_1[0][0]               \n",
            "__________________________________________________________________________________________________\n",
            "batch_normalization_4 (BatchNor (None, 21, 32)       128         bidirectional_2[0][0]            \n",
            "__________________________________________________________________________________________________\n",
            "dropout_2 (Dropout)             (None, 21, 32)       0           batch_normalization_4[0][0]      \n",
            "__________________________________________________________________________________________________\n",
            "activation_2 (Activation)       (None, 21, 32)       0           dropout_2[0][0]                  \n",
            "__________________________________________________________________________________________________\n",
            "batch_normalization_5 (BatchNor (None, 21, 32)       128         activation_2[0][0]               \n",
            "__________________________________________________________________________________________________\n",
            "global_average_pooling1d (Globa (None, 32)           0           batch_normalization_5[0][0]      \n",
            "__________________________________________________________________________________________________\n",
            "dense (Dense)                   (None, 1)            33          global_average_pooling1d[0][0]   \n",
            "==================================================================================================\n",
            "Total params: 2,004,821\n",
            "Trainable params: 1,101,709\n",
            "Non-trainable params: 903,112\n",
            "__________________________________________________________________________________________________\n"
          ],
          "name": "stdout"
        }
      ]
    },
    {
      "cell_type": "code",
      "metadata": {
        "colab": {
          "base_uri": "https://localhost:8080/",
          "height": 1000
        },
        "id": "FJUaOfs0Q-Se",
        "outputId": "967912c5-e9b1-4552-bad9-3d70378715aa"
      },
      "source": [
        "from keras.utils import plot_model\n",
        "from keras.optimizers import Adam\n",
        "model.compile(loss='categorical_crossentropy',\n",
        "                      optimizer= Adam(lr = 0.0001),\n",
        "                      metrics=['accuracy'])\n",
        "plot_model(model)"
      ],
      "execution_count": 32,
      "outputs": [
        {
          "output_type": "execute_result",
          "data": {
            "image/png": "[encoded data removed]",
            "text/plain": [
              "<IPython.core.display.Image object>"
            ]
          },
          "metadata": {
            "tags": []
          },
          "execution_count": 32
        }
      ]
    },
    {
      "cell_type": "code",
      "metadata": {
        "colab": {
          "base_uri": "https://localhost:8080/",
          "height": 680
        },
        "id": "ItvpHKFeIhLB",
        "outputId": "9f4c7ca5-4844-4b5c-9960-cd7681526eb9"
      },
      "source": [
        "from keras.callbacks import *\n",
        "weight_saver = ModelCheckpoint('/content/simple_recurrent.h5', monitor='val_accuracy', \n",
        "                                save_best_only=True, save_weights_only=False, mode= 'max')\n",
        "\n",
        "annealer = ReduceLROnPlateau(monitor='val_loss', factor=0.5,\n",
        "                              patience=5, min_lr=0.0001,mode= 'min')\n",
        "\n",
        "hist = model.fit( x = review_pad,\n",
        "                  y = Y,  \n",
        "                  batch_size = 16,\n",
        "                  epochs = 600,\n",
        "                  callbacks = [weight_saver , annealer],\n",
        "                  validation_split = 0.2,\n",
        "                  shuffle = False,\n",
        "                  verbose = 1)"
      ],
      "execution_count": 33,
      "outputs": [
        {
          "output_type": "stream",
          "text": [
            "Epoch 1/600\n",
            "250/250 [==============================] - 47s 33ms/step - loss: 0.7021 - accuracy: 0.3358 - val_loss: 0.6519 - val_accuracy: 0.3570\n",
            "Epoch 2/600\n",
            "250/250 [==============================] - 6s 24ms/step - loss: 0.6722 - accuracy: 0.3358 - val_loss: 0.6398 - val_accuracy: 0.3570\n",
            "Epoch 3/600\n",
            "250/250 [==============================] - 6s 25ms/step - loss: 0.6549 - accuracy: 0.3358 - val_loss: 0.6430 - val_accuracy: 0.3570\n",
            "Epoch 4/600\n",
            "250/250 [==============================] - 6s 25ms/step - loss: 0.6544 - accuracy: 0.3358 - val_loss: 0.6492 - val_accuracy: 0.3570\n",
            "Epoch 5/600\n",
            "250/250 [==============================] - 6s 24ms/step - loss: 0.6452 - accuracy: 0.3358 - val_loss: 0.6553 - val_accuracy: 0.3570\n",
            "Epoch 6/600\n",
            "250/250 [==============================] - 6s 24ms/step - loss: 0.6406 - accuracy: 0.3358 - val_loss: 0.6739 - val_accuracy: 0.3570\n",
            "Epoch 7/600\n",
            "250/250 [==============================] - 6s 24ms/step - loss: 0.6372 - accuracy: 0.3358 - val_loss: 0.6390 - val_accuracy: 0.3570\n",
            "Epoch 8/600\n",
            "250/250 [==============================] - 6s 24ms/step - loss: 0.6383 - accuracy: 0.3358 - val_loss: 0.6349 - val_accuracy: 0.3570\n",
            "Epoch 9/600\n",
            "250/250 [==============================] - 6s 24ms/step - loss: 0.6369 - accuracy: 0.3358 - val_loss: 0.6613 - val_accuracy: 0.3570\n",
            "Epoch 10/600\n",
            " 85/250 [=========>....................] - ETA: 3s - loss: 0.6427 - accuracy: 0.3310"
          ],
          "name": "stdout"
        },
        {
          "output_type": "error",
          "ename": "KeyboardInterrupt",
          "evalue": "ignored",
          "traceback": [
            "\u001b[0;31m---------------------------------------------------------------------------\u001b[0m",
            "\u001b[0;31mKeyboardInterrupt\u001b[0m                         Traceback (most recent call last)",
            "\u001b[0;32m<ipython-input-33-103c42ad409d>\u001b[0m in \u001b[0;36m<module>\u001b[0;34m()\u001b[0m\n\u001b[1;32m     13\u001b[0m                   \u001b[0mvalidation_split\u001b[0m \u001b[0;34m=\u001b[0m \u001b[0;36m0.2\u001b[0m\u001b[0;34m,\u001b[0m\u001b[0;34m\u001b[0m\u001b[0;34m\u001b[0m\u001b[0m\n\u001b[1;32m     14\u001b[0m                   \u001b[0mshuffle\u001b[0m \u001b[0;34m=\u001b[0m \u001b[0;32mFalse\u001b[0m\u001b[0;34m,\u001b[0m\u001b[0;34m\u001b[0m\u001b[0;34m\u001b[0m\u001b[0m\n\u001b[0;32m---> 15\u001b[0;31m                   verbose = 1)\n\u001b[0m",
            "\u001b[0;32m/usr/local/lib/python3.7/dist-packages/tensorflow/python/keras/engine/training.py\u001b[0m in \u001b[0;36mfit\u001b[0;34m(self, x, y, batch_size, epochs, verbose, callbacks, validation_split, validation_data, shuffle, class_weight, sample_weight, initial_epoch, steps_per_epoch, validation_steps, validation_batch_size, validation_freq, max_queue_size, workers, use_multiprocessing)\u001b[0m\n\u001b[1;32m   1098\u001b[0m                 _r=1):\n\u001b[1;32m   1099\u001b[0m               \u001b[0mcallbacks\u001b[0m\u001b[0;34m.\u001b[0m\u001b[0mon_train_batch_begin\u001b[0m\u001b[0;34m(\u001b[0m\u001b[0mstep\u001b[0m\u001b[0;34m)\u001b[0m\u001b[0;34m\u001b[0m\u001b[0;34m\u001b[0m\u001b[0m\n\u001b[0;32m-> 1100\u001b[0;31m               \u001b[0mtmp_logs\u001b[0m \u001b[0;34m=\u001b[0m \u001b[0mself\u001b[0m\u001b[0;34m.\u001b[0m\u001b[0mtrain_function\u001b[0m\u001b[0;34m(\u001b[0m\u001b[0miterator\u001b[0m\u001b[0;34m)\u001b[0m\u001b[0;34m\u001b[0m\u001b[0;34m\u001b[0m\u001b[0m\n\u001b[0m\u001b[1;32m   1101\u001b[0m               \u001b[0;32mif\u001b[0m \u001b[0mdata_handler\u001b[0m\u001b[0;34m.\u001b[0m\u001b[0mshould_sync\u001b[0m\u001b[0;34m:\u001b[0m\u001b[0;34m\u001b[0m\u001b[0;34m\u001b[0m\u001b[0m\n\u001b[1;32m   1102\u001b[0m                 \u001b[0mcontext\u001b[0m\u001b[0;34m.\u001b[0m\u001b[0masync_wait\u001b[0m\u001b[0;34m(\u001b[0m\u001b[0;34m)\u001b[0m\u001b[0;34m\u001b[0m\u001b[0;34m\u001b[0m\u001b[0m\n",
            "\u001b[0;32m/usr/local/lib/python3.7/dist-packages/tensorflow/python/eager/def_function.py\u001b[0m in \u001b[0;36m__call__\u001b[0;34m(self, *args, **kwds)\u001b[0m\n\u001b[1;32m    826\u001b[0m     \u001b[0mtracing_count\u001b[0m \u001b[0;34m=\u001b[0m \u001b[0mself\u001b[0m\u001b[0;34m.\u001b[0m\u001b[0mexperimental_get_tracing_count\u001b[0m\u001b[0;34m(\u001b[0m\u001b[0;34m)\u001b[0m\u001b[0;34m\u001b[0m\u001b[0;34m\u001b[0m\u001b[0m\n\u001b[1;32m    827\u001b[0m     \u001b[0;32mwith\u001b[0m \u001b[0mtrace\u001b[0m\u001b[0;34m.\u001b[0m\u001b[0mTrace\u001b[0m\u001b[0;34m(\u001b[0m\u001b[0mself\u001b[0m\u001b[0;34m.\u001b[0m\u001b[0m_name\u001b[0m\u001b[0;34m)\u001b[0m \u001b[0;32mas\u001b[0m \u001b[0mtm\u001b[0m\u001b[0;34m:\u001b[0m\u001b[0;34m\u001b[0m\u001b[0;34m\u001b[0m\u001b[0m\n\u001b[0;32m--> 828\u001b[0;31m       \u001b[0mresult\u001b[0m \u001b[0;34m=\u001b[0m \u001b[0mself\u001b[0m\u001b[0;34m.\u001b[0m\u001b[0m_call\u001b[0m\u001b[0;34m(\u001b[0m\u001b[0;34m*\u001b[0m\u001b[0margs\u001b[0m\u001b[0;34m,\u001b[0m \u001b[0;34m**\u001b[0m\u001b[0mkwds\u001b[0m\u001b[0;34m)\u001b[0m\u001b[0;34m\u001b[0m\u001b[0;34m\u001b[0m\u001b[0m\n\u001b[0m\u001b[1;32m    829\u001b[0m       \u001b[0mcompiler\u001b[0m \u001b[0;34m=\u001b[0m \u001b[0;34m\"xla\"\u001b[0m \u001b[0;32mif\u001b[0m \u001b[0mself\u001b[0m\u001b[0;34m.\u001b[0m\u001b[0m_experimental_compile\u001b[0m \u001b[0;32melse\u001b[0m \u001b[0;34m\"nonXla\"\u001b[0m\u001b[0;34m\u001b[0m\u001b[0;34m\u001b[0m\u001b[0m\n\u001b[1;32m    830\u001b[0m       \u001b[0mnew_tracing_count\u001b[0m \u001b[0;34m=\u001b[0m \u001b[0mself\u001b[0m\u001b[0;34m.\u001b[0m\u001b[0mexperimental_get_tracing_count\u001b[0m\u001b[0;34m(\u001b[0m\u001b[0;34m)\u001b[0m\u001b[0;34m\u001b[0m\u001b[0;34m\u001b[0m\u001b[0m\n",
            "\u001b[0;32m/usr/local/lib/python3.7/dist-packages/tensorflow/python/eager/def_function.py\u001b[0m in \u001b[0;36m_call\u001b[0;34m(self, *args, **kwds)\u001b[0m\n\u001b[1;32m    853\u001b[0m       \u001b[0;31m# In this case we have created variables on the first call, so we run the\u001b[0m\u001b[0;34m\u001b[0m\u001b[0;34m\u001b[0m\u001b[0;34m\u001b[0m\u001b[0m\n\u001b[1;32m    854\u001b[0m       \u001b[0;31m# defunned version which is guaranteed to never create variables.\u001b[0m\u001b[0;34m\u001b[0m\u001b[0;34m\u001b[0m\u001b[0;34m\u001b[0m\u001b[0m\n\u001b[0;32m--> 855\u001b[0;31m       \u001b[0;32mreturn\u001b[0m \u001b[0mself\u001b[0m\u001b[0;34m.\u001b[0m\u001b[0m_stateless_fn\u001b[0m\u001b[0;34m(\u001b[0m\u001b[0;34m*\u001b[0m\u001b[0margs\u001b[0m\u001b[0;34m,\u001b[0m \u001b[0;34m**\u001b[0m\u001b[0mkwds\u001b[0m\u001b[0;34m)\u001b[0m  \u001b[0;31m# pylint: disable=not-callable\u001b[0m\u001b[0;34m\u001b[0m\u001b[0;34m\u001b[0m\u001b[0m\n\u001b[0m\u001b[1;32m    856\u001b[0m     \u001b[0;32melif\u001b[0m \u001b[0mself\u001b[0m\u001b[0;34m.\u001b[0m\u001b[0m_stateful_fn\u001b[0m \u001b[0;32mis\u001b[0m \u001b[0;32mnot\u001b[0m \u001b[0;32mNone\u001b[0m\u001b[0;34m:\u001b[0m\u001b[0;34m\u001b[0m\u001b[0;34m\u001b[0m\u001b[0m\n\u001b[1;32m    857\u001b[0m       \u001b[0;31m# Release the lock early so that multiple threads can perform the call\u001b[0m\u001b[0;34m\u001b[0m\u001b[0;34m\u001b[0m\u001b[0;34m\u001b[0m\u001b[0m\n",
            "\u001b[0;32m/usr/local/lib/python3.7/dist-packages/tensorflow/python/eager/function.py\u001b[0m in \u001b[0;36m__call__\u001b[0;34m(self, *args, **kwargs)\u001b[0m\n\u001b[1;32m   2941\u001b[0m        filtered_flat_args) = self._maybe_define_function(args, kwargs)\n\u001b[1;32m   2942\u001b[0m     return graph_function._call_flat(\n\u001b[0;32m-> 2943\u001b[0;31m         filtered_flat_args, captured_inputs=graph_function.captured_inputs)  # pylint: disable=protected-access\n\u001b[0m\u001b[1;32m   2944\u001b[0m \u001b[0;34m\u001b[0m\u001b[0m\n\u001b[1;32m   2945\u001b[0m   \u001b[0;34m@\u001b[0m\u001b[0mproperty\u001b[0m\u001b[0;34m\u001b[0m\u001b[0;34m\u001b[0m\u001b[0m\n",
            "\u001b[0;32m/usr/local/lib/python3.7/dist-packages/tensorflow/python/eager/function.py\u001b[0m in \u001b[0;36m_call_flat\u001b[0;34m(self, args, captured_inputs, cancellation_manager)\u001b[0m\n\u001b[1;32m   1917\u001b[0m       \u001b[0;31m# No tape is watching; skip to running the function.\u001b[0m\u001b[0;34m\u001b[0m\u001b[0;34m\u001b[0m\u001b[0;34m\u001b[0m\u001b[0m\n\u001b[1;32m   1918\u001b[0m       return self._build_call_outputs(self._inference_function.call(\n\u001b[0;32m-> 1919\u001b[0;31m           ctx, args, cancellation_manager=cancellation_manager))\n\u001b[0m\u001b[1;32m   1920\u001b[0m     forward_backward = self._select_forward_and_backward_functions(\n\u001b[1;32m   1921\u001b[0m         \u001b[0margs\u001b[0m\u001b[0;34m,\u001b[0m\u001b[0;34m\u001b[0m\u001b[0;34m\u001b[0m\u001b[0m\n",
            "\u001b[0;32m/usr/local/lib/python3.7/dist-packages/tensorflow/python/eager/function.py\u001b[0m in \u001b[0;36mcall\u001b[0;34m(self, ctx, args, cancellation_manager)\u001b[0m\n\u001b[1;32m    558\u001b[0m               \u001b[0minputs\u001b[0m\u001b[0;34m=\u001b[0m\u001b[0margs\u001b[0m\u001b[0;34m,\u001b[0m\u001b[0;34m\u001b[0m\u001b[0;34m\u001b[0m\u001b[0m\n\u001b[1;32m    559\u001b[0m               \u001b[0mattrs\u001b[0m\u001b[0;34m=\u001b[0m\u001b[0mattrs\u001b[0m\u001b[0;34m,\u001b[0m\u001b[0;34m\u001b[0m\u001b[0;34m\u001b[0m\u001b[0m\n\u001b[0;32m--> 560\u001b[0;31m               ctx=ctx)\n\u001b[0m\u001b[1;32m    561\u001b[0m         \u001b[0;32melse\u001b[0m\u001b[0;34m:\u001b[0m\u001b[0;34m\u001b[0m\u001b[0;34m\u001b[0m\u001b[0m\n\u001b[1;32m    562\u001b[0m           outputs = execute.execute_with_cancellation(\n",
            "\u001b[0;32m/usr/local/lib/python3.7/dist-packages/tensorflow/python/eager/execute.py\u001b[0m in \u001b[0;36mquick_execute\u001b[0;34m(op_name, num_outputs, inputs, attrs, ctx, name)\u001b[0m\n\u001b[1;32m     58\u001b[0m     \u001b[0mctx\u001b[0m\u001b[0;34m.\u001b[0m\u001b[0mensure_initialized\u001b[0m\u001b[0;34m(\u001b[0m\u001b[0;34m)\u001b[0m\u001b[0;34m\u001b[0m\u001b[0;34m\u001b[0m\u001b[0m\n\u001b[1;32m     59\u001b[0m     tensors = pywrap_tfe.TFE_Py_Execute(ctx._handle, device_name, op_name,\n\u001b[0;32m---> 60\u001b[0;31m                                         inputs, attrs, num_outputs)\n\u001b[0m\u001b[1;32m     61\u001b[0m   \u001b[0;32mexcept\u001b[0m \u001b[0mcore\u001b[0m\u001b[0;34m.\u001b[0m\u001b[0m_NotOkStatusException\u001b[0m \u001b[0;32mas\u001b[0m \u001b[0me\u001b[0m\u001b[0;34m:\u001b[0m\u001b[0;34m\u001b[0m\u001b[0;34m\u001b[0m\u001b[0m\n\u001b[1;32m     62\u001b[0m     \u001b[0;32mif\u001b[0m \u001b[0mname\u001b[0m \u001b[0;32mis\u001b[0m \u001b[0;32mnot\u001b[0m \u001b[0;32mNone\u001b[0m\u001b[0;34m:\u001b[0m\u001b[0;34m\u001b[0m\u001b[0;34m\u001b[0m\u001b[0m\n",
            "\u001b[0;31mKeyboardInterrupt\u001b[0m: "
          ]
        }
      ]
    }
  ]
}